{
 "cells": [
  {
   "cell_type": "markdown",
   "metadata": {},
   "source": [
    "### Data cleaning and preprocessing"
   ]
  },
  {
   "cell_type": "code",
   "execution_count": null,
   "metadata": {},
   "outputs": [],
   "source": [
    "import pandas as pd\n",
    "import numpy as np\n",
    "import re\n",
    "import os\n",
    "from dotenv import load_dotenv\n",
    "load_dotenv()"
   ]
  },
  {
   "cell_type": "code",
   "execution_count": 2,
   "metadata": {},
   "outputs": [],
   "source": [
    "# load data raw from data/abstract_narration.csv\n",
    "def load_abstracts():\n",
    "    \"\"\"Load the abstract narration data from CSV file\"\"\"\n",
    "    data = pd.read_csv(os.getenv('RAW_DATA_PATH'))\n",
    "    return data"
   ]
  },
  {
   "cell_type": "code",
   "execution_count": 3,
   "metadata": {},
   "outputs": [],
   "source": [
    "data = load_abstracts()"
   ]
  },
  {
   "cell_type": "code",
   "execution_count": null,
   "metadata": {},
   "outputs": [],
   "source": [
    "data.head(5)"
   ]
  },
  {
   "cell_type": "code",
   "execution_count": null,
   "metadata": {},
   "outputs": [],
   "source": [
    "data.shape"
   ]
  },
  {
   "cell_type": "code",
   "execution_count": 5,
   "metadata": {},
   "outputs": [],
   "source": [
    "def clean_string_column(\n",
    "        df: pd.DataFrame,\n",
    "        column_name: str,\n",
    "        lower: bool = True,\n",
    "        remove_special: bool = True,\n",
    "        remove_numbers: bool = False\n",
    ") -> pd.DataFrame:\n",
    "    \"\"\"\n",
    "    Cleans strings in the specified column of a pandas DataFrame.\n",
    "    \n",
    "    Args:\n",
    "    - df: pd.DataFrame - The input DataFrame\n",
    "    - column_name: str - The name of the column to clean\n",
    "    - lower: bool - Whether to convert text to lowercase (default: True)\n",
    "    - remove_special: bool - Whether to remove special characters (default: True)\n",
    "    - remove_numbers: bool - Whether to remove numbers (default: False)\n",
    "    \n",
    "    Returns:\n",
    "    - pd.DataFrame: DataFrame with cleaned column\n",
    "    \"\"\"\n",
    "\n",
    "    def clean_text(text):\n",
    "        if pd.isnull(text):\n",
    "            return text  # Keep NaN as is\n",
    "        \n",
    "        # Strip leading/trailing whitespace\n",
    "        text = text.strip()\n",
    "\n",
    "        # Convert to lowercase if specified\n",
    "        if lower:\n",
    "            text = text.lower()\n",
    "\n",
    "        # Remove special characters/punctuation if specified\n",
    "        if remove_special:\n",
    "            text = re.sub(r'[^\\w\\s]', '', text)\n",
    "\n",
    "        # Remove numbers if specified\n",
    "        if remove_numbers:\n",
    "            text = re.sub(r'\\d+', '', text)\n",
    "        \n",
    "        return text\n",
    "\n",
    "    # Apply the cleaning function to the specified column\n",
    "    df[column_name] = df[column_name].apply(clean_text)\n",
    "    \n",
    "    return df\n"
   ]
  },
  {
   "cell_type": "code",
   "execution_count": 6,
   "metadata": {},
   "outputs": [],
   "source": [
    "# apply clean string to AbstractNarration column\n",
    "data_cleaned = clean_string_column(df=data, column_name=\"AbstractNarration\")"
   ]
  },
  {
   "cell_type": "code",
   "execution_count": null,
   "metadata": {},
   "outputs": [],
   "source": [
    "data_cleaned.AbstractNarration"
   ]
  },
  {
   "cell_type": "code",
   "execution_count": null,
   "metadata": {},
   "outputs": [],
   "source": [
    "data_cleaned.isnull().sum().sort_values(ascending=False)"
   ]
  },
  {
   "cell_type": "code",
   "execution_count": 9,
   "metadata": {},
   "outputs": [],
   "source": [
    "data_cleaned = data_cleaned.dropna()"
   ]
  },
  {
   "cell_type": "code",
   "execution_count": null,
   "metadata": {},
   "outputs": [],
   "source": [
    "data_cleaned.isnull().sum().sort_values(ascending=False)"
   ]
  },
  {
   "cell_type": "code",
   "execution_count": null,
   "metadata": {},
   "outputs": [],
   "source": [
    "data_cleaned.nunique()"
   ]
  },
  {
   "cell_type": "code",
   "execution_count": 12,
   "metadata": {},
   "outputs": [],
   "source": [
    "final_data = data_cleaned.copy()"
   ]
  },
  {
   "cell_type": "code",
   "execution_count": 13,
   "metadata": {},
   "outputs": [],
   "source": [
    "final_data.drop_duplicates(inplace=True)"
   ]
  },
  {
   "cell_type": "code",
   "execution_count": null,
   "metadata": {},
   "outputs": [],
   "source": [
    "# percentage unique values to total values\n",
    "print(\"% Unique values from total:\", (final_data.nunique()/len(final_data)*100))"
   ]
  },
  {
   "cell_type": "code",
   "execution_count": null,
   "metadata": {},
   "outputs": [],
   "source": [
    "len(final_data)"
   ]
  },
  {
   "cell_type": "code",
   "execution_count": 16,
   "metadata": {},
   "outputs": [],
   "source": [
    "final_data.to_csv(os.getenv(\"FINAL_DATA_PATH\"), index=False)"
   ]
  }
 ],
 "metadata": {
  "kernelspec": {
   "display_name": ".venv",
   "language": "python",
   "name": "python3"
  },
  "language_info": {
   "codemirror_mode": {
    "name": "ipython",
    "version": 3
   },
   "file_extension": ".py",
   "mimetype": "text/x-python",
   "name": "python",
   "nbconvert_exporter": "python",
   "pygments_lexer": "ipython3",
   "version": "3.11.4"
  }
 },
 "nbformat": 4,
 "nbformat_minor": 2
}
